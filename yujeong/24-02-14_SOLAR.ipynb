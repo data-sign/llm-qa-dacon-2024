{
 "cells": [
  {
   "cell_type": "markdown",
   "metadata": {},
   "source": [
    "!pip install transformer==4.35 accelerate bitsandbytes==0.35 trl==0.4.7  !pip install peft==0.4"
   ]
  },
  {
   "cell_type": "code",
   "execution_count": null,
   "metadata": {},
   "outputs": [],
   "source": [
    "import pandas as pd\n",
    "from tqdm import tqdm\n",
    "import torch\n",
    "from transformers import AutoModelForCausalLM, AutoTokenizer, BitsAndBytesConfig, TrainingArguments\n",
    "from trl import SFTTrainer\n",
    "import datetime\n",
    "from datasets import Dataset"
   ]
  },
  {
   "cell_type": "code",
   "execution_count": null,
   "metadata": {},
   "outputs": [],
   "source": [
    "device = torch.device(\"cuda:0\")\n",
    "print(f\"Using device: {device}\")"
   ]
  },
  {
   "cell_type": "markdown",
   "metadata": {},
   "source": [
    "## 1. DATA LOAD"
   ]
  },
  {
   "cell_type": "code",
   "execution_count": null,
   "metadata": {},
   "outputs": [],
   "source": [
    "# 데이터 로드\n",
    "train = pd.read_csv('Data/train_final_0213.csv', index_col=0)\n",
    "train\n",
    "# train['question'].unique()[:10]"
   ]
  },
  {
   "cell_type": "code",
   "execution_count": null,
   "metadata": {},
   "outputs": [],
   "source": [
    "from datasets import Dataset\n",
    "\n",
    "# transformer dataset으로 변환하기\n",
    "dataset = Dataset.from_pandas(train[['question','answer']])"
   ]
  },
  {
   "cell_type": "code",
   "execution_count": null,
   "metadata": {},
   "outputs": [],
   "source": [
    "dataset"
   ]
  },
  {
   "cell_type": "markdown",
   "metadata": {},
   "source": [
    "## 2. MODEL LOAD"
   ]
  },
  {
   "cell_type": "code",
   "execution_count": null,
   "metadata": {},
   "outputs": [],
   "source": [
    "# Quantization\n",
    "# 4-bit quantization with NF4 type configuration using BitsAndBytes\n",
    "\n",
    "compute_dtype = getattr(torch, \"float16\")\n",
    "\n",
    "quant_config = BitsAndBytesConfig(\n",
    "    load_in_4bit=True,\n",
    "    bnb_4bit_quant_type=\"nf4\",\n",
    "    bnb_4bit_compute_dtype=compute_dtype,\n",
    "    bnb_4bit_use_double_quant=False\n",
    ")"
   ]
  },
  {
   "cell_type": "code",
   "execution_count": null,
   "metadata": {},
   "outputs": [],
   "source": [
    "tokenizer = AutoTokenizer.from_pretrained(\"LDCC/LDCC-SOLAR-10.7B\")\n",
    "model = AutoModelForCausalLM.from_pretrained(\n",
    "    \"LDCC/LDCC-SOLAR-10.7B\",\n",
    "    device_map=\"auto\",\n",
    "    torch_dtype=torch.float16,\n",
    "    quantization_config=quant_config\n",
    ")\n",
    "\n",
    "model.config.use_cache = False\n",
    "model.config.pretraining_tp = 1"
   ]
  },
  {
   "cell_type": "markdown",
   "metadata": {},
   "source": [
    "peft_params = LoraConfig(\n",
    "    lora_alpha=16,\n",
    "    lora_dropout=0.1,\n",
    "    r=64,\n",
    "    bias=\"none\",\n",
    "    task_type=\"CAUSAL_LM\",\n",
    ")"
   ]
  },
  {
   "cell_type": "code",
   "execution_count": null,
   "metadata": {},
   "outputs": [],
   "source": [
    "training_params = TrainingArguments(\n",
    "    output_dir=\"./results_LDCC\",\n",
    "    num_train_epochs=1,\n",
    "    learning_rate=2e-5,\n",
    "    per_device_train_batch_size=8,\n",
    "    per_device_eval_batch_size=8,\n",
    ")"
   ]
  },
  {
   "cell_type": "code",
   "execution_count": null,
   "metadata": {},
   "outputs": [],
   "source": [
    "def formatting_prompts_func(example):\n",
    "    output_texts = []\n",
    "    for i in range(len(example['question'])):\n",
    "        text = f\"### Question: {example['question'][i]}\\n ### Answer: {example['answer'][i]}\"\n",
    "        output_texts.append(text)\n",
    "    return output_texts"
   ]
  },
  {
   "cell_type": "code",
   "execution_count": null,
   "metadata": {},
   "outputs": [],
   "source": [
    "from peft import LoraConfig\n",
    "peft_params = LoraConfig(\n",
    "    lora_alpha=16,\n",
    "    lora_dropout=0.1,\n",
    "    r=64,\n",
    "    bias=\"none\",\n",
    "    task_type=\"CAUSAL_LM\",\n",
    ")"
   ]
  },
  {
   "cell_type": "code",
   "execution_count": null,
   "metadata": {},
   "outputs": [],
   "source": [
    "from transformers import Trainer\n",
    "trainer = SFTTrainer(\n",
    "    model=model,\n",
    "    train_dataset=dataset,\n",
    "    args = training_params,\n",
    "    peft_config = peft_params,\n",
    "    packing = False,\n",
    "    formatting_func=formatting_prompts_func\n",
    ")\n",
    "\n",
    "    # peft_config = peft_params,\n",
    "    # ,\n",
    "    # "
   ]
  },
  {
   "cell_type": "code",
   "execution_count": null,
   "metadata": {},
   "outputs": [],
   "source": [
    "trainer.train()"
   ]
  },
  {
   "cell_type": "code",
   "execution_count": null,
   "metadata": {},
   "outputs": [],
   "source": [
    "trainer.model.save_pretrained('./results_LDCC')\n",
    "trainer.tokenizer.save_pretrained('./results_LDCC')"
   ]
  },
  {
   "cell_type": "markdown",
   "metadata": {},
   "source": [
    "## 4. INFERENCE"
   ]
  },
  {
   "cell_type": "code",
   "execution_count": null,
   "metadata": {},
   "outputs": [],
   "source": [
    "from rouge import Rouge\n",
    "import pandas as pd\n",
    "from tqdm import tqdm\n",
    "import datetime\n",
    "from sentence_transformers import SentenceTransformer\n",
    "from transformers import AutoModelForCausalLM, AutoTokenizer\n",
    "import numpy as np"
   ]
  },
  {
   "cell_type": "code",
   "execution_count": null,
   "metadata": {},
   "outputs": [],
   "source": [
    "def cosine_similarity(a, b):\n",
    "    dot_product = np.dot(a, b)\n",
    "    norm_a = np.linalg.norm(a)\n",
    "    norm_b = np.linalg.norm(b)\n",
    "    return dot_product / (norm_a * norm_b) if norm_a != 0 and norm_b != 0 else 0"
   ]
  },
  {
   "cell_type": "code",
   "execution_count": null,
   "metadata": {},
   "outputs": [],
   "source": [
    "model = AutoModelForCausalLM.from_pretrained('./newmodel',device_map='auto')\n",
    "tokenizer = AutoTokenizer.from_pretrained('./newmodel')"
   ]
  },
  {
   "cell_type": "code",
   "execution_count": null,
   "metadata": {},
   "outputs": [],
   "source": [
    "model.device"
   ]
  },
  {
   "cell_type": "code",
   "execution_count": null,
   "metadata": {},
   "outputs": [],
   "source": [
    "# model.resize_token_embeddings(len(tokenizer))"
   ]
  },
  {
   "cell_type": "markdown",
   "metadata": {},
   "source": [
    "# \n",
    "### 1) 130개 inference + submission csv→ 33개 추출 csv"
   ]
  },
  {
   "cell_type": "code",
   "execution_count": null,
   "metadata": {},
   "outputs": [],
   "source": [
    "# TEST SET LOADING\n",
    "start_time=datetime.datetime.now().strftime(\"%m-%d-%H\")\n",
    "now_time=datetime.datetime.now().strftime(\"%m-%d  %H:%M:%S\")\n",
    "s=datetime.datetime.now()\n",
    "print(':::: START -',now_time)\n",
    "test=pd.read_csv('Data/test.csv') #,encoding='cp949'\n",
    "\n",
    "# GENERATE\n",
    "preds=[]\n",
    "for question_list in tqdm(test['질문']) :\n",
    "    conversation = [ {'role': 'system', 'content': \"요약해서 간략하게 3문장 내외로 대답합니다.\"},\n",
    "        {'role':'user', 'content' : question_list} ] #{'role': 'system', 'content': \"It's a chatbot that only answers in Korean.\"},\n",
    "    prompt = tokenizer.apply_chat_template(conversation, tokenize=False, add_generation_prompt=True)    \n",
    "    inputs = tokenizer(prompt, return_tensors=\"pt\").to(model.device)\n",
    "    outputs = model.generate(**inputs, use_cache=True, max_length=400)\n",
    "    preds.append(outputs)\n",
    "\n",
    "\n",
    "# DECODING\n",
    "predict_out=[]\n",
    "for i in preds :\n",
    "    full_text=tokenizer.decode(i[0])\n",
    "    answer_start=full_text.find('### Assistant:')\n",
    "    answer_only = full_text[answer_start:].strip().replace('### Assistant:\\n','').replace('</s>','')\n",
    "    predict_out.append(answer_only)\n",
    "\n",
    "\n",
    "# MAKING ANSWER CSV\n",
    "test_sample=pd.DataFrame(predict_out)\n",
    "\n",
    "test_sample.to_csv('Answer/'+start_time+'_answer130.csv', encoding='utf-8-sig')\n",
    "now_time=datetime.datetime.now().strftime(\"%m-%d  %H:%M:%S\")\n",
    "print(':::: SAVE - answer130-',now_time)\n",
    "\n",
    "\n",
    "# MAKGIN SUBMISSION CSV\n",
    "\n",
    "## Embedding Vector 추출에 활용할 모델(distiluse-base-multilingual-cased-v1) 불러오기\n",
    "Submission_model = SentenceTransformer('distiluse-base-multilingual-cased-v1')\n",
    "\n",
    "## 생성한 모든 응답(답변)으로부터 Embedding Vector 추출\n",
    "pred_embeddings = Submission_model.encode(predict_out)\n",
    "pred_embeddings.shape\n",
    "submit = pd.read_csv('Data/sample_submission.csv')\n",
    "## 제출 양식 파일(sample_submission.csv)을 활용하여 Embedding Vector로 변환한 결과를 삽입\n",
    "submit.iloc[:,1:] = pred_embeddings\n",
    "submit.head()\n",
    "## 리더보드 제출을 위한 csv파일 생성\n",
    "submit.to_csv('Answer/'+start_time+'_submission.csv', index=False)\n",
    "now_time=datetime.datetime.now().strftime(\"%m-%d  %H:%M:%S\")\n",
    "print(':::: SAVE - submission - ',now_time)\n",
    "\n",
    "# Rouge eval\n",
    "rouge = Rouge()\n",
    "test['predict']=predict_out\n",
    "gpt_answwer=pd.read_csv('Data/dacon_llm_answer.csv')\n",
    "rou_df=pd.merge(test,gpt_answwer, on=['id','질문'])\n",
    "\n",
    "rouge_score=rouge.get_scores(rou_df['predict'], rou_df['GPT 답변'], avg=True)['rouge-l']\n",
    "print(':::: EVAL_rouge_score - ', rouge_score)\n",
    "\n",
    "\n",
    "# 33sentences cosine_score\n",
    "sample_scores = []\n",
    "for pred, gt in zip(df['predict'], df['GPT 답변']):\n",
    "    # 생성된 답변 내용을 512 Embedding Vector로 변환\n",
    "    pred_embed = Submission_model.encode(pred)\n",
    "    gt_embed = Submission_model.encode(gt)   \n",
    "    sample_score = cosine_similarity(gt_embed, pred_embed)\n",
    "    # Cosine Similarity Score가 0보다 작으면 0으로 간주\n",
    "    sample_score = max(sample_score, 0)\n",
    "    sample_scores.append(sample_score)\n",
    "print(':::: Cosine Similarity_mean score - ', np.mean(sample_scores))\n",
    "\n",
    "rou_df['cos_score'] = sample_scores\n",
    "rou_df.to_csv('Answer/'+start_time+'_answer33.csv', encoding='utf-8-sig')\n",
    "f=datetime.datetime.now()\n",
    "print(':::: FINISH  -',now_time, '  toal time : ', f-s)"
   ]
  },
  {
   "cell_type": "markdown",
   "metadata": {},
   "source": [
    "### 2) 33개 추출 inference csv"
   ]
  },
  {
   "cell_type": "code",
   "execution_count": null,
   "metadata": {},
   "outputs": [],
   "source": [
    "# TEST SET LOADING\n",
    "start_time=datetime.datetime.now().strftime(\"%m-%d-%H\")\n",
    "now_time=datetime.datetime.now().strftime(\"%m-%d  %H:%M:%S\")\n",
    "s=datetime.datetime.now()\n",
    "print(':::: START -',now_time)\n",
    "test=pd.read_csv('Data/dacon_llm_answer.csv') #,encoding='cp949'\n",
    "\n",
    "# GENERATE\n",
    "preds=[]\n",
    "for question_list in tqdm(test['질문']) :\n",
    "    conversation = [ {'role': 'system', 'content': \"요약해서 간략하게 3문장 내외로 대답합니다.\"},\n",
    "        {'role':'user', 'content' : question_list} ] #{'role': 'system', 'content': \"It's a chatbot that only answers in Korean.\"},\n",
    "    prompt = tokenizer.apply_chat_template(conversation, tokenize=False, add_generation_prompt=True)    \n",
    "    inputs = tokenizer(prompt, return_tensors=\"pt\").to(model.device)\n",
    "    outputs = model.generate(**inputs, use_cache=True, max_length=400)\n",
    "    preds.append(outputs)\n",
    "\n",
    "\n",
    "# DECODING\n",
    "predict_out=[]\n",
    "for i in preds :\n",
    "    full_text=tokenizer.decode(i[0])\n",
    "    answer_start=full_text.find('### Assistant:')\n",
    "    answer_only = full_text[answer_start:].strip().replace('### Assistant:\\n','').replace('</s>','')\n",
    "    predict_out.append(answer_only)\n",
    "\n",
    "\n",
    "# Rouge eval\n",
    "rouge = Rouge()\n",
    "test['predict']=predict_out\n",
    "gpt_answwer=pd.read_csv('Data/dacon_llm_answer.csv')\n",
    "rou_df=pd.merge(test,gpt_answwer, on=['id','질문'])\n",
    "\n",
    "rouge_score=rouge.get_scores(rou_df['predict'], rou_df['GPT 답변'], avg=True)['rouge-l']\n",
    "print(':::: EVAL_rouge_score - ', rouge_score)\n",
    "\n",
    "\n",
    "# 33sentences cosine_score\n",
    "sample_scores = []\n",
    "for pred, gt in zip(df['predict'], df['GPT 답변']):\n",
    "    # 생성된 답변 내용을 512 Embedding Vector로 변환\n",
    "    pred_embed = Submission_model.encode(pred)\n",
    "    gt_embed = Submission_model.encode(gt)   \n",
    "    sample_score = cosine_similarity(gt_embed, pred_embed)\n",
    "    # Cosine Similarity Score가 0보다 작으면 0으로 간주\n",
    "    sample_score = max(sample_score, 0)\n",
    "    sample_scores.append(sample_score)\n",
    "print(':::: Cosine Similarity_mean score - ', np.mean(sample_scores))\n",
    "\n",
    "rou_df['cos_score'] = sample_scores\n",
    "rou_df.to_csv('Answer/'+start_time+'_answer33.csv', encoding='utf-8-sig')\n",
    "f=datetime.datetime.now()\n",
    "print(':::: FINISH  -',now_time, '  toal time : ', f-s)"
   ]
  },
  {
   "cell_type": "markdown",
   "metadata": {},
   "source": [
    "## 5. Submission"
   ]
  },
  {
   "cell_type": "code",
   "execution_count": null,
   "metadata": {},
   "outputs": [],
   "source": [
    "data=pd.read_csv('24-02-20-16.csv')\n",
    "data['0']"
   ]
  },
  {
   "cell_type": "code",
   "execution_count": null,
   "metadata": {},
   "outputs": [],
   "source": [
    "# Test 데이터셋의 모든 질의에 대한 답변으로부터 512 차원의 Embedding Vector 추출\n",
    "# 평가를 위한 Embedding Vector 추출에 활용하는 모델은 'distiluse-base-multilingual-cased-v1' 이므로 반드시 확인해주세요.\n",
    "from sentence_transformers import SentenceTransformer # SentenceTransformer Version 2.2.2\n",
    "\n",
    "# Embedding Vector 추출에 활용할 모델(distiluse-base-multilingual-cased-v1) 불러오기\n",
    "Submission_model = SentenceTransformer('distiluse-base-multilingual-cased-v1')\n",
    "\n",
    "# 생성한 모든 응답(답변)으로부터 Embedding Vector 추출\n",
    "pred_embeddings = Submission_model.encode(data['0'])\n",
    "pred_embeddings.shape\n",
    "submit = pd.read_csv('./sample_submission.csv')\n",
    "# 제출 양식 파일(sample_submission.csv)을 활용하여 Embedding Vector로 변환한 결과를 삽입\n",
    "submit.iloc[:,1:] = pred_embeddings\n",
    "submit.head()\n",
    "# 리더보드 제출을 위한 csv파일 생성\n",
    "submit.to_csv('./24-02-21-10_submission.csv', index=False)"
   ]
  },
  {
   "cell_type": "markdown",
   "metadata": {},
   "source": [
    "===\n",
    "===\n",
    "===\n",
    "======"
   ]
  },
  {
   "cell_type": "markdown",
   "metadata": {},
   "source": [
    "conversation = [ {'role': 'system', 'content': '친절하고 도배상식이 풍부한 상담원입니다. 언제나 한국어로만 대답합니다.'} ] \n",
    "\n",
    "prompt = tokenizer.apply_chat_template(conversation, tokenize=False, add_generation_prompt=True)\n",
    "\n",
    "inputs = tokenizer(prompt, return_tensors=\"pt\").to(model.device) \n",
    "outputs = model.generate(**inputs, use_cache=True, max_length=4096)\n",
    "output_text = tokenizer.decode(outputs[0]) \n",
    "print(output_text)\n"
   ]
  },
  {
   "cell_type": "markdown",
   "metadata": {},
   "source": [
    "for _, row in tqdm(data.iterrows()):\n",
    "    input_text = row['question'] + tokenizer.eos_token + row['answer']\n",
    "    input_ids = tokenizer.encode(input_text, return_tensors='pt')"
   ]
  }
 ],
 "metadata": {
  "kernelspec": {
   "display_name": "Python 3",
   "language": "python",
   "name": "python3"
  },
  "language_info": {
   "codemirror_mode": {
    "name": "ipython",
    "version": 3
   },
   "file_extension": ".py",
   "mimetype": "text/x-python",
   "name": "python",
   "nbconvert_exporter": "python",
   "pygments_lexer": "ipython3",
   "version": "3.8.10"
  }
 },
 "nbformat": 4,
 "nbformat_minor": 2
}
