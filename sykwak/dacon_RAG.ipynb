{
 "cells": [
  {
   "cell_type": "code",
   "execution_count": 1,
   "id": "5ab63534-f5ab-4906-833c-48a851829022",
   "metadata": {},
   "outputs": [],
   "source": [
    "import pandas as pd\n",
    "import numpy as np"
   ]
  },
  {
   "cell_type": "markdown",
   "id": "c86cba19-b779-478b-aed8-8afa8ca0a900",
   "metadata": {},
   "source": [
    "### Memory 확인"
   ]
  },
  {
   "cell_type": "code",
   "execution_count": 2,
   "id": "fd550d4d-f5d5-47a7-8625-7070e1bc42be",
   "metadata": {},
   "outputs": [
    {
     "name": "stdout",
     "output_type": "stream",
     "text": [
      "[98.67768889431689]\n"
     ]
    }
   ],
   "source": [
    "import nvidia_smi\n",
    "\n",
    "nvidia_smi.nvmlInit()\n",
    "deviceCount = nvidia_smi.nvmlDeviceGetCount()\n",
    "freem = []\n",
    "for i in range(deviceCount):\n",
    "    handle = nvidia_smi.nvmlDeviceGetHandleByIndex(i)\n",
    "    info = nvidia_smi.nvmlDeviceGetMemoryInfo(handle)\n",
    "    freem.append(100*info.free/info.total)\n",
    "nvidia_smi.nvmlShutdown()\n",
    "print(freem)"
   ]
  },
  {
   "cell_type": "markdown",
   "id": "bbde6b66-7303-420a-8988-6baf07d4c588",
   "metadata": {},
   "source": [
    "## Data 로드\n",
    "- pdf 파일...어떻게 정제하지"
   ]
  },
  {
   "cell_type": "code",
   "execution_count": 3,
   "id": "f91dc1b1-7a75-4a50-b17f-b63697eb024b",
   "metadata": {},
   "outputs": [],
   "source": [
    "# !pip install pypdf"
   ]
  },
  {
   "cell_type": "code",
   "execution_count": 4,
   "id": "3ba2327a-5a7d-480d-b6be-2476dcbb0a30",
   "metadata": {},
   "outputs": [],
   "source": [
    "# # 단일 pdf 파일 로드\n",
    "# from langchain.document_loaders import PyPDFLoader\n",
    "\n",
    "# file_dir = \"./retriever_data\"\n",
    "# file_nm = \"공동주택 건축공사의 하자유형과 대책에 관한 연구.pdf\"\n",
    "# loader = PyPDFLoader(file_dir+file_nm)\n",
    "# document = loader.load()"
   ]
  },
  {
   "cell_type": "code",
   "execution_count": 5,
   "id": "cea35430-a1b4-4844-8bc6-4944fe8914be",
   "metadata": {},
   "outputs": [],
   "source": [
    "from langchain.vectorstores import Chroma\n",
    "from langchain.llms import OpenAI\n",
    "from langchain.chains import RetrievalQA\n",
    "from langchain.document_loaders import CSVLoader\n",
    "from langchain.document_loaders import TextLoader\n",
    "from langchain.document_loaders import PyPDFLoader\n",
    "from langchain.document_loaders import DirectoryLoader\n",
    "from langchain.text_splitter import CharacterTextSplitter\n",
    "from langchain.text_splitter import RecursiveCharacterTextSplitter"
   ]
  },
  {
   "cell_type": "code",
   "execution_count": 6,
   "id": "f87a344a-8713-42c4-b0a9-a6c588f184aa",
   "metadata": {},
   "outputs": [],
   "source": [
    "file_dir = \"./retriever_data\""
   ]
  },
  {
   "cell_type": "code",
   "execution_count": 7,
   "id": "b3cb6c98-f616-49e7-9b27-caa628ad37b7",
   "metadata": {},
   "outputs": [
    {
     "name": "stdout",
     "output_type": "stream",
     "text": [
      "CPU times: user 24 µs, sys: 3 µs, total: 27 µs\n",
      "Wall time: 32.9 µs\n"
     ]
    }
   ],
   "source": [
    "%%time\n",
    "pdf_loader = DirectoryLoader(file_dir, glob=\"./*.pdf\", loader_cls=PyPDFLoader)\n",
    "# pdf_documents = pdf_loader.load()"
   ]
  },
  {
   "cell_type": "code",
   "execution_count": 8,
   "id": "2deca6d3-ad5f-4142-afd8-b7a14a550893",
   "metadata": {},
   "outputs": [
    {
     "name": "stdout",
     "output_type": "stream",
     "text": [
      "CPU times: user 48.2 s, sys: 160 ms, total: 48.3 s\n",
      "Wall time: 48.3 s\n"
     ]
    }
   ],
   "source": [
    "%%time\n",
    "# 줄바꿈, 마침표, 쉼표 순으로 재귀적으로 분할하기 때문에 max_token 지켜서 분할\n",
    "text_splitter = RecursiveCharacterTextSplitter(\n",
    "    chunk_size = 3000,\n",
    "    chunk_overlap=200,\n",
    "    length_function = len,\n",
    ")\n",
    "\n",
    "pdf_documents = pdf_loader.load_and_split(text_splitter)"
   ]
  },
  {
   "cell_type": "code",
   "execution_count": 9,
   "id": "7323f8f4-bac8-42c0-9bf2-d0283e39c894",
   "metadata": {},
   "outputs": [],
   "source": [
    "# %%time\n",
    "# # split pdf documents\n",
    "# text_splitter = CharacterTextSplitter(\n",
    "#     separator=\"\\n \", # 분할기준\n",
    "#     chunk_size=300,  # 쪼개는 글자수\n",
    "#     chunk_overlap=0,  # 오버랩 글자수\n",
    "#     length_function=len,\n",
    "#     is_separator_regex=False,\n",
    "# )\n",
    " \n",
    "# pdf_documents = pdf_loader.load_and_split(text_splitter)"
   ]
  },
  {
   "cell_type": "code",
   "execution_count": 10,
   "id": "d52cac99-bdbe-4b5d-b584-29f4acdb3e42",
   "metadata": {},
   "outputs": [
    {
     "data": {
      "text/plain": [
       "Document(page_content='- ix -국 국국 문 문문 요 요요 약 약약\\n1 9 7 0년대 초부터 경제성장의 기류를 타고 현재까지 지속된 사회,경\\n제의 급속한 발전과 과학기술의 발전은 건축물의 대규모화, 고층화,대량\\n화를 야기시켰으며 이에 따라 건축공사도 대량화,고급화와 함께 시공,\\n재료면에서의 커다란 진보를 가져오게 하였다.\\n그러나 건축공사의 양적인 공급증가와는 달리 관련기술의 발전은 미흡\\n하여 여전히 현장에서의 임의적 시공이 일반적이고 기존의 대량공급에\\n의한 획일화가 계속되어 이에 대한 비판이 제기되고 있으며,불충분한\\n설계와 잘못 선택된 재료 및 설비,불성실한 시공과 무리한 공기단축으\\n로 인한 하자발생 등 여러 가지 문제점이 나타나고 있는 실정이다.\\n이와 같은 건축공사의 여러 가지 문제점 중에서도 특히 하자발생은 생\\n활의 질을 저하시키고 이용자의 정신적,물질적 피해를 일으키므로 이에\\n대한 연구가 시급한 실정이다. 과거에는 일반주택 및 기타 건축물의 건\\n축공사 시 하자를 단순하고 경미한 시공상의 문제로만 간주하여 그 중요\\n성이 크게 인식되지 못하였다.그러나 근래에는 생활에 큰 불편을 초래\\n하고,구조 안전상의 문제로까지 확대되고 있으며 더욱이 보수공사로 손\\n실되는 경비는 시공경비 보다 3 배 이상 추가되는 등 적지 않은 경제적\\n손실을 불러오고,기업의 신뢰성 상실,사회간접자본으로서의 건축물의\\n가치하락 등 사회적 문제로까지 부각되는 시점에서,하자에 대한 다각적\\n인 관심과 연구가 요구된다.따라서 본 연구에서는 건축공사에서 발생하\\n는 하자의 사례를 살펴보고 사례를 통해 유형별로 분류하여,그 원인을\\n분석하고 대책에 관한 합리적인 개선방안을 제시하고자 한다.', metadata={'source': 'retriever_data/공동주택 하자발생 원인과 방지방안에 관한 연구.pdf', 'page': 9})"
      ]
     },
     "execution_count": 10,
     "metadata": {},
     "output_type": "execute_result"
    }
   ],
   "source": [
    "pdf_documents[10]"
   ]
  },
  {
   "cell_type": "code",
   "execution_count": 8,
   "id": "3c8dccba-02d4-49f9-a3b7-0cf8d48f6d2f",
   "metadata": {},
   "outputs": [],
   "source": [
    "loader = CSVLoader(\"train_retriever_full.csv\", 'contents', [\"question\"]) # page_content 에 들어갈 칼럼, metadata로 사용할 칼럼 리스트\n",
    "csv_documents = loader.load()"
   ]
  },
  {
   "cell_type": "code",
   "execution_count": 9,
   "id": "af02dc4a-c369-423e-bf67-0f30d56d372b",
   "metadata": {},
   "outputs": [
    {
     "data": {
      "text/plain": [
       "Document(page_content=': 0\\ncontents: 2023년의 인기 있는 인테리어 디자인 트렌드는 어떤 것이 있을까요? : 2023년에는 천연 소재, 어스톤 컬러 팔레트, 그리고 지속 가능한 디자인이 트렌드입니다.2023년의 최신 인테리어 디자인 트렌드는 천연 소재와 어스톤 컬러 팔레트에 더해, 지속 가능한 디자인이 중요한 요소로 부각될 것으로 예상됩니다. 지속 가능성을 고려한 소재와 디자인 요소들이 주목받을 것으로 보입니다.2023년의 최신 인테리어 디자인 트렌드는 천연 소재 활용, 어스톤 컬러 팔레트, 그리고 지속 가능한 디자인에 초점을 맞추고 있습니다. 이들은 환경 친화적이며 자연적인 느낌을 주는 인테리어 디자인을 지향하며, 모던한 분위기를 조성하는 데 사용됩니다. 이러한 트렌드가 최근에는 많은 인기를 끌고 있으며, 2023년에는 더욱 강화된 추세로 예상됩니다.2023년의 최신 인테리어 디자인 트렌드로는 천연 소재 활용, 어스톤 컬러 팔레트, 그리고 지속가능한 디자인이 주목받을 것으로 예상됩니다. 이러한 트렌드는 환경을 고려하면서도 자연스러운 디자인과 색상을 선호하는 현대 사회의 가치관을 반영하고 있습니다. 특히 천연 소재의 인기는 가정 내부뿐만 아니라 식물이나 자연의 원소를 활용한 외부 장식에도 영향을 미칠 것으로 예상됩니다.2023년에는 천연 소재와 어스톤 컬러 팔레트가 여전히 유행할 것으로 예상됩니다. 또한, 친환경적이고 지속 가능한 디자인이 더욱 중요시되며, 실내 공간에서 식물을 활용한 자연친화적 디자인이 강조될 것으로 보입니다. 또한, 디지털 기술과 전통적 요소를 결합한 현대적이면서도 따뜻한 느낌의 복합 디자인이 주목받을 것으로 예상됩니다.', metadata={'source': '2023년의 인기 있는 인테리어 디자인 트렌드는 어떤 것이 있을까요? : 2023년에는 천연 소재, 어스톤 컬러 팔레트, 그리고 지속 가능한 디자인이 트렌드입니다.2023년의 최신 인테리어 디자인 트렌드는 천연 소재와 어스톤 컬러 팔레트에 더해, 지속 가능한 디자인이 중요한 요소로 부각될 것으로 예상됩니다. 지속 가능성을 고려한 소재와 디자인 요소들이 주목받을 것으로 보입니다.2023년의 최신 인테리어 디자인 트렌드는 천연 소재 활용, 어스톤 컬러 팔레트, 그리고 지속 가능한 디자인에 초점을 맞추고 있습니다. 이들은 환경 친화적이며 자연적인 느낌을 주는 인테리어 디자인을 지향하며, 모던한 분위기를 조성하는 데 사용됩니다. 이러한 트렌드가 최근에는 많은 인기를 끌고 있으며, 2023년에는 더욱 강화된 추세로 예상됩니다.2023년의 최신 인테리어 디자인 트렌드로는 천연 소재 활용, 어스톤 컬러 팔레트, 그리고 지속가능한 디자인이 주목받을 것으로 예상됩니다. 이러한 트렌드는 환경을 고려하면서도 자연스러운 디자인과 색상을 선호하는 현대 사회의 가치관을 반영하고 있습니다. 특히 천연 소재의 인기는 가정 내부뿐만 아니라 식물이나 자연의 원소를 활용한 외부 장식에도 영향을 미칠 것으로 예상됩니다.2023년에는 천연 소재와 어스톤 컬러 팔레트가 여전히 유행할 것으로 예상됩니다. 또한, 친환경적이고 지속 가능한 디자인이 더욱 중요시되며, 실내 공간에서 식물을 활용한 자연친화적 디자인이 강조될 것으로 보입니다. 또한, 디지털 기술과 전통적 요소를 결합한 현대적이면서도 따뜻한 느낌의 복합 디자인이 주목받을 것으로 예상됩니다.', 'row': 0, 'question': '2023년의 인기 있는 인테리어 디자인 트렌드는 어떤 것이 있을까요?'})"
      ]
     },
     "execution_count": 9,
     "metadata": {},
     "output_type": "execute_result"
    }
   ],
   "source": [
    "csv_documents[0]"
   ]
  },
  {
   "cell_type": "code",
   "execution_count": 12,
   "id": "ad927ebe-3ffa-49c7-8fc3-20c3ab41d7eb",
   "metadata": {},
   "outputs": [],
   "source": [
    "documents = pdf_documents + csv_documents"
   ]
  },
  {
   "cell_type": "code",
   "execution_count": 13,
   "id": "7c2d4588-dbfb-4ab9-9da0-607f4521a214",
   "metadata": {},
   "outputs": [
    {
     "name": "stdout",
     "output_type": "stream",
     "text": [
      "pdf(864) + csv(1258) = 2122\n"
     ]
    }
   ],
   "source": [
    "print(f'pdf({len(pdf_documents)}) + csv({len(csv_documents)}) = {len(documents)}')"
   ]
  },
  {
   "cell_type": "markdown",
   "id": "3370d5c0-7333-4e30-a9de-69507803b7d9",
   "metadata": {},
   "source": [
    "## RAG"
   ]
  },
  {
   "cell_type": "code",
   "execution_count": 14,
   "id": "32300d2f-f8ed-4916-a3fb-b119c85a6467",
   "metadata": {},
   "outputs": [],
   "source": [
    "import os\n",
    "import torch\n",
    "from datasets import load_dataset\n",
    "from transformers import (\n",
    "    AutoModelForCausalLM,\n",
    "    AutoTokenizer,\n",
    "    BitsAndBytesConfig,\n",
    "    TrainingArguments,\n",
    "    pipeline,\n",
    "    logging,\n",
    ")\n",
    "from langchain import HuggingFacePipeline\n",
    "from langchain.embeddings import HuggingFaceEmbeddings\n",
    "from langchain.vectorstores import FAISS\n",
    "from langchain.chains import ConversationalRetrievalChain\n",
    "from peft import LoraConfig, PeftModel"
   ]
  },
  {
   "cell_type": "markdown",
   "id": "760f87fd-94ce-4170-ad5f-684c24ba4421",
   "metadata": {},
   "source": [
    "### LLM - BASE Model 생성"
   ]
  },
  {
   "cell_type": "code",
   "execution_count": 15,
   "id": "f8a8eac0-435a-44d8-9b43-d9faef1fb9b3",
   "metadata": {},
   "outputs": [],
   "source": [
    "base_model = \"Upstage/SOLAR-10.7B-Instruct-v1.0\"\n",
    "# base_model = \"LDCC/LDCC-SOLAR-10.7B\""
   ]
  },
  {
   "cell_type": "code",
   "execution_count": 16,
   "id": "259ded15-aee4-448a-981d-e033ac490570",
   "metadata": {},
   "outputs": [],
   "source": [
    "# 4-bit quantization configuration\n",
    "compute_dtype = getattr(torch, \"float16\")\n",
    "use_4bit=True\n",
    "\n",
    "quant_config = BitsAndBytesConfig(\n",
    "    load_in_4bit=use_4bit,\n",
    "    bnb_4bit_quant_type=\"nf4\",\n",
    "    bnb_4bit_compute_dtype=compute_dtype,\n",
    "    bnb_4bit_use_double_quant=False,\n",
    ")"
   ]
  },
  {
   "cell_type": "code",
   "execution_count": 17,
   "id": "002f927e-e799-4ee8-9a98-273b7bdccd61",
   "metadata": {},
   "outputs": [
    {
     "name": "stdout",
     "output_type": "stream",
     "text": [
      "================================================================================\n",
      "Your GPU supports bfloat16: accelerate training with bf16=True\n",
      "================================================================================\n"
     ]
    }
   ],
   "source": [
    "# Check GPU compatibility with bfloat16\n",
    "if compute_dtype == torch.float16 and use_4bit:\n",
    "    major, _ = torch.cuda.get_device_capability()\n",
    "    if major >= 8:\n",
    "        print(\"=\" * 80)\n",
    "        print(\"Your GPU supports bfloat16: accelerate training with bf16=True\")\n",
    "        print(\"=\" * 80)"
   ]
  },
  {
   "cell_type": "code",
   "execution_count": 18,
   "id": "a0965999-8d82-46a8-b536-7e660bf283c1",
   "metadata": {},
   "outputs": [
    {
     "data": {
      "application/vnd.jupyter.widget-view+json": {
       "model_id": "7b5cfb858dca4f7bae390cd93a2d61d4",
       "version_major": 2,
       "version_minor": 0
      },
      "text/plain": [
       "Loading checkpoint shards:   0%|          | 0/5 [00:00<?, ?it/s]"
      ]
     },
     "metadata": {},
     "output_type": "display_data"
    },
    {
     "name": "stderr",
     "output_type": "stream",
     "text": [
      "Some weights of LlamaForCausalLM were not initialized from the model checkpoint at Upstage/SOLAR-10.7B-Instruct-v1.0 and are newly initialized: ['model.layers.39.self_attn.rotary_emb.inv_freq', 'model.layers.42.self_attn.rotary_emb.inv_freq', 'model.layers.47.self_attn.rotary_emb.inv_freq', 'model.layers.17.self_attn.rotary_emb.inv_freq', 'model.layers.4.self_attn.rotary_emb.inv_freq', 'model.layers.30.self_attn.rotary_emb.inv_freq', 'model.layers.27.self_attn.rotary_emb.inv_freq', 'model.layers.23.self_attn.rotary_emb.inv_freq', 'model.layers.43.self_attn.rotary_emb.inv_freq', 'model.layers.10.self_attn.rotary_emb.inv_freq', 'model.layers.35.self_attn.rotary_emb.inv_freq', 'model.layers.31.self_attn.rotary_emb.inv_freq', 'model.layers.40.self_attn.rotary_emb.inv_freq', 'model.layers.0.self_attn.rotary_emb.inv_freq', 'model.layers.15.self_attn.rotary_emb.inv_freq', 'model.layers.41.self_attn.rotary_emb.inv_freq', 'model.layers.2.self_attn.rotary_emb.inv_freq', 'model.layers.16.self_attn.rotary_emb.inv_freq', 'model.layers.13.self_attn.rotary_emb.inv_freq', 'model.layers.25.self_attn.rotary_emb.inv_freq', 'model.layers.38.self_attn.rotary_emb.inv_freq', 'model.layers.20.self_attn.rotary_emb.inv_freq', 'model.layers.6.self_attn.rotary_emb.inv_freq', 'model.layers.28.self_attn.rotary_emb.inv_freq', 'model.layers.9.self_attn.rotary_emb.inv_freq', 'model.layers.11.self_attn.rotary_emb.inv_freq', 'model.layers.14.self_attn.rotary_emb.inv_freq', 'model.layers.19.self_attn.rotary_emb.inv_freq', 'model.layers.34.self_attn.rotary_emb.inv_freq', 'model.layers.36.self_attn.rotary_emb.inv_freq', 'model.layers.46.self_attn.rotary_emb.inv_freq', 'model.layers.33.self_attn.rotary_emb.inv_freq', 'model.layers.26.self_attn.rotary_emb.inv_freq', 'model.layers.22.self_attn.rotary_emb.inv_freq', 'model.layers.18.self_attn.rotary_emb.inv_freq', 'model.layers.3.self_attn.rotary_emb.inv_freq', 'model.layers.1.self_attn.rotary_emb.inv_freq', 'model.layers.29.self_attn.rotary_emb.inv_freq', 'model.layers.44.self_attn.rotary_emb.inv_freq', 'model.layers.5.self_attn.rotary_emb.inv_freq', 'model.layers.12.self_attn.rotary_emb.inv_freq', 'model.layers.37.self_attn.rotary_emb.inv_freq', 'model.layers.8.self_attn.rotary_emb.inv_freq', 'model.layers.24.self_attn.rotary_emb.inv_freq', 'model.layers.21.self_attn.rotary_emb.inv_freq', 'model.layers.45.self_attn.rotary_emb.inv_freq', 'model.layers.32.self_attn.rotary_emb.inv_freq', 'model.layers.7.self_attn.rotary_emb.inv_freq']\n",
      "You should probably TRAIN this model on a down-stream task to be able to use it for predictions and inference.\n"
     ]
    },
    {
     "name": "stdout",
     "output_type": "stream",
     "text": [
      "CPU times: user 4.55 s, sys: 1.31 s, total: 5.85 s\n",
      "Wall time: 6.62 s\n"
     ]
    }
   ],
   "source": [
    "%%time\n",
    "# Load Base Model\n",
    "model = AutoModelForCausalLM.from_pretrained(\n",
    "    base_model,\n",
    "    quantization_config=quant_config,\n",
    "    device_map=\"auto\",\n",
    "    # torch_dtype=torch.float16,\n",
    "    # low_cpu_mem_usage=True\n",
    ")"
   ]
  },
  {
   "cell_type": "code",
   "execution_count": 19,
   "id": "c999b020-8492-49ab-ba8f-c820c3d9cc1d",
   "metadata": {},
   "outputs": [],
   "source": [
    "# Load LLaMA tokenizer\n",
    "tokenizer = AutoTokenizer.from_pretrained(base_model, trust_remote_code=True)\n",
    "tokenizer.pad_token = tokenizer.eos_token\n",
    "tokenizer.padding_side = \"right\" # Fix weird overflow issue with fp16 training"
   ]
  },
  {
   "cell_type": "code",
   "execution_count": 20,
   "id": "d6f2fa7c-0d71-4304-b801-eb3e01fc0892",
   "metadata": {},
   "outputs": [],
   "source": [
    "pipe = pipeline(task=\"text-generation\",\n",
    "                model=model,\n",
    "                tokenizer=tokenizer,\n",
    "                max_length=6000,\n",
    "                device_map=\"auto\"\n",
    "               )\n",
    "llm = HuggingFacePipeline(pipeline = pipe)"
   ]
  },
  {
   "cell_type": "code",
   "execution_count": 21,
   "id": "0004fa61-3424-49a3-8705-bdaf6612293c",
   "metadata": {},
   "outputs": [],
   "source": [
    "query_lst = [\"어떤 상황에 개별 공간이 더 적합한지, 어떤 상황에 오픈 플랜 공간이 더 적합한지 알려주세요. 그리고 합지벽지의 어떤 단점이 있나요?\",\n",
    "             \"고층 건물을 건축할 때 철골구조가 주로 선택되는 이유는 무엇인가요?\",\n",
    "             \"어떤 환경 요인이 몰딩 수정을 유발할 수 있는가요? 그리고 반점이 생긴지 1년 이내인 하자에 대해 어떤 보수작업을 해야 하나요?\",\n",
    "             \"타일 바닥에서 파손된 타일을 교체하는 과정에 어떤 단계가 포함되나요? 또한, 겨울에 도배를 할 때 특별히 신경써야 할 사항이 있을까요?\",\n",
    "             \"평지붕의 단점은 무엇인가요? 그리고 실크벽지의 교체 주기는 얼마나인가요?\",\n",
    "             \"강마루 바닥재의 장점은 무엇인가요?\"]"
   ]
  },
  {
   "cell_type": "markdown",
   "id": "17a3b68a-a740-415e-b55b-4675fc0d124e",
   "metadata": {},
   "source": [
    "#### 기본 모델 답변 확인"
   ]
  },
  {
   "cell_type": "code",
   "execution_count": 22,
   "id": "24be4cde-b3c1-4f17-958d-0105e97d1ff5",
   "metadata": {},
   "outputs": [],
   "source": [
    "base = []"
   ]
  },
  {
   "cell_type": "code",
   "execution_count": null,
   "id": "3727e398-640f-4662-aa5c-d0589c10c699",
   "metadata": {},
   "outputs": [],
   "source": [
    "%%time\n",
    "# baseline 모델 답변\n",
    "prompt = query_lst[2]\n",
    "result = pipe(f\"<s>[INST] {prompt} [/INST]\")\n",
    "print(result[0]['generated_text'])"
   ]
  },
  {
   "cell_type": "code",
   "execution_count": null,
   "id": "7d4b12e3-3767-443a-abb0-daa3265c3052",
   "metadata": {},
   "outputs": [],
   "source": [
    "base.append(result[0]['generated_text'])"
   ]
  },
  {
   "cell_type": "markdown",
   "id": "8938797b-53dd-415d-9b0b-5fcaea986206",
   "metadata": {},
   "source": [
    "### Retriever 생성"
   ]
  },
  {
   "cell_type": "code",
   "execution_count": 22,
   "id": "4cc870c1-3895-4829-8cf9-9397ff59fc68",
   "metadata": {},
   "outputs": [],
   "source": [
    "#laod Embedding model\n",
    "embedding_model = \"jhgan/ko-sbert-nli\"\n",
    "model_kwargs={'device':'cpu'}\n",
    "encode_kwargs = {'normalize_embeddings':False}\n",
    "\n",
    "embeddings = HuggingFaceEmbeddings(\n",
    "    model_name=embedding_model,\n",
    "    model_kwargs=model_kwargs,\n",
    "    encode_kwargs=encode_kwargs\n",
    ")"
   ]
  },
  {
   "cell_type": "code",
   "execution_count": 23,
   "id": "d5a5be35-522f-4a65-9eca-3af3e80bcd28",
   "metadata": {},
   "outputs": [],
   "source": [
    "# from sentence_transformers import SentenceTransformer # SentenceTransformer Version 2.2.2\n",
    "\n",
    "# # Embedding Vector 추출에 활용할 모델(distiluse-base-multilingual-cased-v1) 불러오기\n",
    "# embeddings = SentenceTransformer('distiluse-base-multilingual-cased-v1')"
   ]
  },
  {
   "cell_type": "code",
   "execution_count": 24,
   "id": "444c2003-deee-44d7-87f3-863ffc483656",
   "metadata": {},
   "outputs": [
    {
     "name": "stdout",
     "output_type": "stream",
     "text": [
      "CPU times: user 11min 54s, sys: 1min 47s, total: 13min 42s\n",
      "Wall time: 1min 16s\n"
     ]
    }
   ],
   "source": [
    "%%time\n",
    "vectordb = FAISS.from_documents(\n",
    "    documents = documents,\n",
    "    embedding = embeddings,\n",
    ")\n",
    "\n",
    "# 선택할 관련 문서 개수 정하기\n",
    "retriever = vectordb.as_retriever(search_kwargs={\"k\":1}) # 상위 k개의 결과를 반환"
   ]
  },
  {
   "cell_type": "code",
   "execution_count": 25,
   "id": "a1c9cb08-63e2-4f8e-ac92-44af614cc2a1",
   "metadata": {},
   "outputs": [
    {
     "name": "stdout",
     "output_type": "stream",
     "text": [
      "어떤 상황에 개별 공간이 더 적합한지, 어떤 상황에 오픈 플랜 공간이 더 적합한지 알려주세요. 그리고 합지벽지의 어떤 단점이 있나요?\n",
      "\n",
      "page_content=': 46\\ncontents: 개별 공간과 오픈 플랜 공간 중에서 어떤 것이 더 나에게 알맞은 것인가요? : 개별 공간은 개인 공간과 더 많은 프라이버시를 제공하며, 오픈 플랜은 공간을 확장하고 연결감을 높입니다.개인 성향과 생활 방식에 따라 적합한 공간이 다를 수 있지만, 개별 공간은 개인의 공간과 프라이버시를 보장하는 반면에 오픈 플랜은 공간을 확장하고 연결감을 높입니다. 만약 개인적인 시간을 중요시하고 자신만의 공간에서 휴식을 취하는 것을 선호한다면 개별 공간이 더 적합할 수 있습니다. 그러나 사교적이고 가족과 함께하는 시간을 중시한다면 오픈 플랜이 보다 편리하고 적합한 선택일 수 있습니다.오픈 플랜은 공간을 확장하고 연결감을 높이는 반면, 개별 공간은 개인 공간과 더 많은 프라이버시를 제공합니다. 만약 프라이버시를 중시하고 조용한 환경을 선호한다면 개별 공간이 더 적합할 수 있습니다. 그러나 활동적이고 소통을 즐기며 공간을 확장시키고 연결성을 강화시키는 것을 선호한다면 오픈 플랜이 더 나을 수 있습니다. 이는 주거환경 및 개인의 취향에 따라 다를 수 있습니다.개별 공간은 개인의 공간과 더 많은 프라이버시를 제공하는 반면, 오픈 플랜은 공간을 확장시키고 연결감을 높여 활동적인 라이프스타일을 즐기기에 더 적합할 수 있습니다. 만약 온전히 개인 공간에서 안락함을 느끼는 편이라면 개별 공간이 더 적합할 수 있고, 대화와 활동을 즐기는데 중점을 두는 경우에는 오픈 플랜이 보다 적합할 것입니다.개별 공간과 오픈 플랜 공간은 각각의 특징을 가지고 있습니다. 개별 공간은 개인적인 공간과 프라이버시를 제공하여 조용한 환경을 유지할 수 있습니다. 반면에 오픈 플랜은 공간을 확장시켜 연결감을 높이고 커다란 공간을 만들어 낼 수 있습니다. 선택은 개인의 선호와 생활 방식에 따라 다릅니다. 만약 자주 손님을 맞이하는 등 활발한 활동이 많은 경우에는 오픈 플랜이 더 적합할 수 있습니다. 하지만 개인적인 시간을 중시하고 분리된 공간에서의 프라이버시를 중요시하는 경우에는 개별 공간이 더 적합할 수 있습니다.' metadata={'source': '개별 공간과 오픈 플랜 공간 중에서 어떤 것이 더 나에게 알맞은 것인가요? : 개별 공간은 개인 공간과 더 많은 프라이버시를 제공하며, 오픈 플랜은 공간을 확장하고 연결감을 높입니다.개인 성향과 생활 방식에 따라 적합한 공간이 다를 수 있지만, 개별 공간은 개인의 공간과 프라이버시를 보장하는 반면에 오픈 플랜은 공간을 확장하고 연결감을 높입니다. 만약 개인적인 시간을 중요시하고 자신만의 공간에서 휴식을 취하는 것을 선호한다면 개별 공간이 더 적합할 수 있습니다. 그러나 사교적이고 가족과 함께하는 시간을 중시한다면 오픈 플랜이 보다 편리하고 적합한 선택일 수 있습니다.오픈 플랜은 공간을 확장하고 연결감을 높이는 반면, 개별 공간은 개인 공간과 더 많은 프라이버시를 제공합니다. 만약 프라이버시를 중시하고 조용한 환경을 선호한다면 개별 공간이 더 적합할 수 있습니다. 그러나 활동적이고 소통을 즐기며 공간을 확장시키고 연결성을 강화시키는 것을 선호한다면 오픈 플랜이 더 나을 수 있습니다. 이는 주거환경 및 개인의 취향에 따라 다를 수 있습니다.개별 공간은 개인의 공간과 더 많은 프라이버시를 제공하는 반면, 오픈 플랜은 공간을 확장시키고 연결감을 높여 활동적인 라이프스타일을 즐기기에 더 적합할 수 있습니다. 만약 온전히 개인 공간에서 안락함을 느끼는 편이라면 개별 공간이 더 적합할 수 있고, 대화와 활동을 즐기는데 중점을 두는 경우에는 오픈 플랜이 보다 적합할 것입니다.개별 공간과 오픈 플랜 공간은 각각의 특징을 가지고 있습니다. 개별 공간은 개인적인 공간과 프라이버시를 제공하여 조용한 환경을 유지할 수 있습니다. 반면에 오픈 플랜은 공간을 확장시켜 연결감을 높이고 커다란 공간을 만들어 낼 수 있습니다. 선택은 개인의 선호와 생활 방식에 따라 다릅니다. 만약 자주 손님을 맞이하는 등 활발한 활동이 많은 경우에는 오픈 플랜이 더 적합할 수 있습니다. 하지만 개인적인 시간을 중시하고 분리된 공간에서의 프라이버시를 중요시하는 경우에는 개별 공간이 더 적합할 수 있습니다.', 'row': 46, 'question': '개별 공간과 오픈 플랜 공간 중에서 어떤 것이 더 나에게 알맞은 것인가요?'}\n",
      "CPU times: user 144 ms, sys: 16.7 ms, total: 161 ms\n",
      "Wall time: 24.2 ms\n"
     ]
    }
   ],
   "source": [
    "%%time\n",
    "# Retrievr 테스트\n",
    "query = query_lst[0]\n",
    "print(query)\n",
    "print()\n",
    "docs = retriever.get_relevant_documents(query, consider_metadata=True)\n",
    "print(docs[0])"
   ]
  },
  {
   "cell_type": "markdown",
   "id": "1e88b745-2b52-481b-b62a-551d329a8116",
   "metadata": {},
   "source": [
    "## Retriever 기반 Generation"
   ]
  },
  {
   "cell_type": "code",
   "execution_count": 26,
   "id": "fdf6b756-5416-4951-99ac-825a90a3910f",
   "metadata": {},
   "outputs": [],
   "source": [
    "query_lst = [\"어떤 상황에 개별 공간이 더 적합한지, 어떤 상황에 오픈 플랜 공간이 더 적합한지 알려주세요. 그리고 합지벽지의 어떤 단점이 있나요?\",\n",
    "             \"고층 건물을 건축할 때 철골구조가 주로 선택되는 이유는 무엇인가요?\",\n",
    "             \"어떤 환경 요인이 몰딩 수정을 유발할 수 있는가요? 그리고 반점이 생긴지 1년 이내인 하자에 대해 어떤 보수작업을 해야 하나요?\",\n",
    "             \"타일 바닥에서 파손된 타일을 교체하는 과정에 어떤 단계가 포함되나요? 또한, 겨울에 도배를 할 때 특별히 신경써야 할 사항이 있을까요?\",\n",
    "             \"평지붕의 단점은 무엇인가요? 그리고 실크벽지의 교체 주기는 얼마나인가요?\",\n",
    "             \"강마루 바닥재의 장점은 무엇인가요?\"]"
   ]
  },
  {
   "cell_type": "code",
   "execution_count": 27,
   "id": "8a15e064-23a4-4bab-83c3-2840508df170",
   "metadata": {},
   "outputs": [],
   "source": [
    "# Chaining a pipeline\n",
    "chain = ConversationalRetrievalChain.from_llm(\n",
    "    llm,\n",
    "    retriever,\n",
    "    return_source_documents=True\n",
    ")"
   ]
  },
  {
   "cell_type": "code",
   "execution_count": 28,
   "id": "a6e5e860-f027-4bec-8a38-49d180944fce",
   "metadata": {},
   "outputs": [
    {
     "name": "stderr",
     "output_type": "stream",
     "text": [
      "/opt/conda/lib/python3.10/site-packages/langchain_core/_api/deprecation.py:117: LangChainDeprecationWarning: The function `__call__` was deprecated in LangChain 0.1.0 and will be removed in 0.2.0. Use invoke instead.\n",
      "  warn_deprecated(\n",
      "/opt/conda/lib/python3.10/site-packages/transformers/generation/utils.py:1270: UserWarning: You have modified the pretrained model configuration to control generation. This is a deprecated strategy to control generation and will be removed soon, in a future version. Please use a generation configuration file (see https://huggingface.co/docs/transformers/main_classes/text_generation )\n",
      "  warnings.warn(\n",
      "This is a friendly reminder - the current text generation call will exceed the model's predefined maximum length (4096). Depending on the model, you may observe exceptions, performance degradation, or nothing at all.\n"
     ]
    },
    {
     "name": "stdout",
     "output_type": "stream",
     "text": [
      "{'question': '어떤 상황에 개별 공간이 더 적합한지, 어떤 상황에 오픈 플랜 공간이 더 적합한지 알려주세요. 그리고 합지벽지의 어떤 단점이 있나요?', 'chat_history': [], 'answer': ' 밝는 황에 느납', 'source_documents': [Document(page_content=': 46\\ncontents: 개별 공간과 오픈 플랜 공간 중에서 어떤 것이 더 나에게 알맞은 것인가요? : 개별 공간은 개인 공간과 더 많은 프라이버시를 제공하며, 오픈 플랜은 공간을 확장하고 연결감을 높입니다.개인 성향과 생활 방식에 따라 적합한 공간이 다를 수 있지만, 개별 공간은 개인의 공간과 프라이버시를 보장하는 반면에 오픈 플랜은 공간을 확장하고 연결감을 높입니다. 만약 개인적인 시간을 중요시하고 자신만의 공간에서 휴식을 취하는 것을 선호한다면 개별 공간이 더 적합할 수 있습니다. 그러나 사교적이고 가족과 함께하는 시간을 중시한다면 오픈 플랜이 보다 편리하고 적합한 선택일 수 있습니다.오픈 플랜은 공간을 확장하고 연결감을 높이는 반면, 개별 공간은 개인 공간과 더 많은 프라이버시를 제공합니다. 만약 프라이버시를 중시하고 조용한 환경을 선호한다면 개별 공간이 더 적합할 수 있습니다. 그러나 활동적이고 소통을 즐기며 공간을 확장시키고 연결성을 강화시키는 것을 선호한다면 오픈 플랜이 더 나을 수 있습니다. 이는 주거환경 및 개인의 취향에 따라 다를 수 있습니다.개별 공간은 개인의 공간과 더 많은 프라이버시를 제공하는 반면, 오픈 플랜은 공간을 확장시키고 연결감을 높여 활동적인 라이프스타일을 즐기기에 더 적합할 수 있습니다. 만약 온전히 개인 공간에서 안락함을 느끼는 편이라면 개별 공간이 더 적합할 수 있고, 대화와 활동을 즐기는데 중점을 두는 경우에는 오픈 플랜이 보다 적합할 것입니다.개별 공간과 오픈 플랜 공간은 각각의 특징을 가지고 있습니다. 개별 공간은 개인적인 공간과 프라이버시를 제공하여 조용한 환경을 유지할 수 있습니다. 반면에 오픈 플랜은 공간을 확장시켜 연결감을 높이고 커다란 공간을 만들어 낼 수 있습니다. 선택은 개인의 선호와 생활 방식에 따라 다릅니다. 만약 자주 손님을 맞이하는 등 활발한 활동이 많은 경우에는 오픈 플랜이 더 적합할 수 있습니다. 하지만 개인적인 시간을 중시하고 분리된 공간에서의 프라이버시를 중요시하는 경우에는 개별 공간이 더 적합할 수 있습니다.', metadata={'source': '개별 공간과 오픈 플랜 공간 중에서 어떤 것이 더 나에게 알맞은 것인가요? : 개별 공간은 개인 공간과 더 많은 프라이버시를 제공하며, 오픈 플랜은 공간을 확장하고 연결감을 높입니다.개인 성향과 생활 방식에 따라 적합한 공간이 다를 수 있지만, 개별 공간은 개인의 공간과 프라이버시를 보장하는 반면에 오픈 플랜은 공간을 확장하고 연결감을 높입니다. 만약 개인적인 시간을 중요시하고 자신만의 공간에서 휴식을 취하는 것을 선호한다면 개별 공간이 더 적합할 수 있습니다. 그러나 사교적이고 가족과 함께하는 시간을 중시한다면 오픈 플랜이 보다 편리하고 적합한 선택일 수 있습니다.오픈 플랜은 공간을 확장하고 연결감을 높이는 반면, 개별 공간은 개인 공간과 더 많은 프라이버시를 제공합니다. 만약 프라이버시를 중시하고 조용한 환경을 선호한다면 개별 공간이 더 적합할 수 있습니다. 그러나 활동적이고 소통을 즐기며 공간을 확장시키고 연결성을 강화시키는 것을 선호한다면 오픈 플랜이 더 나을 수 있습니다. 이는 주거환경 및 개인의 취향에 따라 다를 수 있습니다.개별 공간은 개인의 공간과 더 많은 프라이버시를 제공하는 반면, 오픈 플랜은 공간을 확장시키고 연결감을 높여 활동적인 라이프스타일을 즐기기에 더 적합할 수 있습니다. 만약 온전히 개인 공간에서 안락함을 느끼는 편이라면 개별 공간이 더 적합할 수 있고, 대화와 활동을 즐기는데 중점을 두는 경우에는 오픈 플랜이 보다 적합할 것입니다.개별 공간과 오픈 플랜 공간은 각각의 특징을 가지고 있습니다. 개별 공간은 개인적인 공간과 프라이버시를 제공하여 조용한 환경을 유지할 수 있습니다. 반면에 오픈 플랜은 공간을 확장시켜 연결감을 높이고 커다란 공간을 만들어 낼 수 있습니다. 선택은 개인의 선호와 생활 방식에 따라 다릅니다. 만약 자주 손님을 맞이하는 등 활발한 활동이 많은 경우에는 오픈 플랜이 더 적합할 수 있습니다. 하지만 개인적인 시간을 중시하고 분리된 공간에서의 프라이버시를 중요시하는 경우에는 개별 공간이 더 적합할 수 있습니다.', 'row': 46, 'question': '개별 공간과 오픈 플랜 공간 중에서 어떤 것이 더 나에게 알맞은 것인가요?'}), Document(page_content=': 45\\ncontents: 개별 공간과 오픈 플랜 공간 중 어떤 것이 나에게 더 적합한가요? : 개별 공간은 개인 공간과 더 많은 프라이버시를 제공하며, 오픈 플랜은 공간을 확장하고 연결감을 높입니다.개인 성향과 생활 방식에 따라 적합한 공간이 다를 수 있지만, 개별 공간은 개인의 공간과 프라이버시를 보장하는 반면에 오픈 플랜은 공간을 확장하고 연결감을 높입니다. 만약 개인적인 시간을 중요시하고 자신만의 공간에서 휴식을 취하는 것을 선호한다면 개별 공간이 더 적합할 수 있습니다. 그러나 사교적이고 가족과 함께하는 시간을 중시한다면 오픈 플랜이 보다 편리하고 적합한 선택일 수 있습니다.오픈 플랜은 공간을 확장하고 연결감을 높이는 반면, 개별 공간은 개인 공간과 더 많은 프라이버시를 제공합니다. 만약 프라이버시를 중시하고 조용한 환경을 선호한다면 개별 공간이 더 적합할 수 있습니다. 그러나 활동적이고 소통을 즐기며 공간을 확장시키고 연결성을 강화시키는 것을 선호한다면 오픈 플랜이 더 나을 수 있습니다. 이는 주거환경 및 개인의 취향에 따라 다를 수 있습니다.개별 공간은 개인의 공간과 더 많은 프라이버시를 제공하는 반면, 오픈 플랜은 공간을 확장시키고 연결감을 높여 활동적인 라이프스타일을 즐기기에 더 적합할 수 있습니다. 만약 온전히 개인 공간에서 안락함을 느끼는 편이라면 개별 공간이 더 적합할 수 있고, 대화와 활동을 즐기는데 중점을 두는 경우에는 오픈 플랜이 보다 적합할 것입니다.개별 공간과 오픈 플랜 공간은 각각의 특징을 가지고 있습니다. 개별 공간은 개인적인 공간과 프라이버시를 제공하여 조용한 환경을 유지할 수 있습니다. 반면에 오픈 플랜은 공간을 확장시켜 연결감을 높이고 커다란 공간을 만들어 낼 수 있습니다. 선택은 개인의 선호와 생활 방식에 따라 다릅니다. 만약 자주 손님을 맞이하는 등 활발한 활동이 많은 경우에는 오픈 플랜이 더 적합할 수 있습니다. 하지만 개인적인 시간을 중시하고 분리된 공간에서의 프라이버시를 중요시하는 경우에는 개별 공간이 더 적합할 수 있습니다.', metadata={'source': '개별 공간과 오픈 플랜 공간 중 어떤 것이 나에게 더 적합한가요? : 개별 공간은 개인 공간과 더 많은 프라이버시를 제공하며, 오픈 플랜은 공간을 확장하고 연결감을 높입니다.개인 성향과 생활 방식에 따라 적합한 공간이 다를 수 있지만, 개별 공간은 개인의 공간과 프라이버시를 보장하는 반면에 오픈 플랜은 공간을 확장하고 연결감을 높입니다. 만약 개인적인 시간을 중요시하고 자신만의 공간에서 휴식을 취하는 것을 선호한다면 개별 공간이 더 적합할 수 있습니다. 그러나 사교적이고 가족과 함께하는 시간을 중시한다면 오픈 플랜이 보다 편리하고 적합한 선택일 수 있습니다.오픈 플랜은 공간을 확장하고 연결감을 높이는 반면, 개별 공간은 개인 공간과 더 많은 프라이버시를 제공합니다. 만약 프라이버시를 중시하고 조용한 환경을 선호한다면 개별 공간이 더 적합할 수 있습니다. 그러나 활동적이고 소통을 즐기며 공간을 확장시키고 연결성을 강화시키는 것을 선호한다면 오픈 플랜이 더 나을 수 있습니다. 이는 주거환경 및 개인의 취향에 따라 다를 수 있습니다.개별 공간은 개인의 공간과 더 많은 프라이버시를 제공하는 반면, 오픈 플랜은 공간을 확장시키고 연결감을 높여 활동적인 라이프스타일을 즐기기에 더 적합할 수 있습니다. 만약 온전히 개인 공간에서 안락함을 느끼는 편이라면 개별 공간이 더 적합할 수 있고, 대화와 활동을 즐기는데 중점을 두는 경우에는 오픈 플랜이 보다 적합할 것입니다.개별 공간과 오픈 플랜 공간은 각각의 특징을 가지고 있습니다. 개별 공간은 개인적인 공간과 프라이버시를 제공하여 조용한 환경을 유지할 수 있습니다. 반면에 오픈 플랜은 공간을 확장시켜 연결감을 높이고 커다란 공간을 만들어 낼 수 있습니다. 선택은 개인의 선호와 생활 방식에 따라 다릅니다. 만약 자주 손님을 맞이하는 등 활발한 활동이 많은 경우에는 오픈 플랜이 더 적합할 수 있습니다. 하지만 개인적인 시간을 중시하고 분리된 공간에서의 프라이버시를 중요시하는 경우에는 개별 공간이 더 적합할 수 있습니다.', 'row': 45, 'question': '개별 공간과 오픈 플랜 공간 중 어떤 것이 나에게 더 적합한가요?'}), Document(page_content=': 796\\ncontents: 오픈 플랜으로 구성된 주방과 거실을 효과적으로 구분하는 방법에는 어떤 것들이 있을까요? : 오픈 플랜을 구분하기 위해 가구 배치, 색상 팔레트, 그리고 에리어 러그를 활용하세요.오픈 플랜의 주방과 거실을 효과적으로 구분하는 방법은 가구 배치, 색상 팔레트, 그리고 에리어 러그를 활용하는 것이 좋습니다. 추가로, 고정된 가구 아이템 또는 분할장을 사용하여 공간을 시각적으로 분리함으로써 더욱 효과적인 구분을 이뤄낼 수 있습니다.오픈 플랜 주방과 거실을 효과적으로 구분하기 위해서는 다양한 방법을 활용할 수 있습니다. 먼저, 가구 배치를 통해 공간을 분리할 수 있습니다. 가구를 사용하여 주방과 거실 사이에 가상의 경계를 만들어 분리감을 높일 수 있습니다. 또한, 색상 팔레트를 활용하여 각 공간의 분위기를 달리 설정할 수 있습니다. 주방 쪽에는 선명하고 활기찬 색상을 사용하고, 거실 쪽에는 안정적이고 편안한 느낌을 주는 색상을 선택하여 공간을 분리할 수 있습니다. 그리고 에리어 럭을 활용하여 주방과 거실을 시각적으로 구분할 수 있습니다. 에리어 럭은 각 공간에 맞는 사이즈와 디자인을 선택하여 사용하여 분리된 느낌을 줄 수 있습니다. 이러한 다양한 방법을 활용하여 오픈 플랜 주방과 거실을 효과적으로 구분할 수 있습니다.오픈 플랜 주방과 거실을 효과적으로 구분하는 방법 중 하나는 가구 배치, 색상 팔레트, 그리고 에리어 러그를 활용하는 것입니다. 이에 추가로 가벽에 서랍과 선반을 설치하여 구분을 강조하거나, 각 공간 별로 다른 조명을 활용하여 분위기를 변화시킬 수도 있습니다. 또한 특별한 디자인의 천장, 벽을 활용하는 것도 효과적인 방법 중 하나입니다.오픈 플랜 주방과 거실을 효과적으로 구분하는 방법은 다양합니다. 가구 배치, 색상 팔레트, 그리고 에리어 러그를 활용하여 공간을 구분할 수 있습니다. 또한, 다채로운 커튼, 디바이더, 높은 식물 등을 활용하여 시선을 분리시키고 공간을 시각적으로 분할하는 것도 좋은 방법입니다.함께 사용하실 가구 및 소품들의 테마와 스타일을 조율하여 분리된 느낌을 주도록 구성하세요.', metadata={'source': '오픈 플랜으로 구성된 주방과 거실을 효과적으로 구분하는 방법에는 어떤 것들이 있을까요? : 오픈 플랜을 구분하기 위해 가구 배치, 색상 팔레트, 그리고 에리어 러그를 활용하세요.오픈 플랜의 주방과 거실을 효과적으로 구분하는 방법은 가구 배치, 색상 팔레트, 그리고 에리어 러그를 활용하는 것이 좋습니다. 추가로, 고정된 가구 아이템 또는 분할장을 사용하여 공간을 시각적으로 분리함으로써 더욱 효과적인 구분을 이뤄낼 수 있습니다.오픈 플랜 주방과 거실을 효과적으로 구분하기 위해서는 다양한 방법을 활용할 수 있습니다. 먼저, 가구 배치를 통해 공간을 분리할 수 있습니다. 가구를 사용하여 주방과 거실 사이에 가상의 경계를 만들어 분리감을 높일 수 있습니다. 또한, 색상 팔레트를 활용하여 각 공간의 분위기를 달리 설정할 수 있습니다. 주방 쪽에는 선명하고 활기찬 색상을 사용하고, 거실 쪽에는 안정적이고 편안한 느낌을 주는 색상을 선택하여 공간을 분리할 수 있습니다. 그리고 에리어 럭을 활용하여 주방과 거실을 시각적으로 구분할 수 있습니다. 에리어 럭은 각 공간에 맞는 사이즈와 디자인을 선택하여 사용하여 분리된 느낌을 줄 수 있습니다. 이러한 다양한 방법을 활용하여 오픈 플랜 주방과 거실을 효과적으로 구분할 수 있습니다.오픈 플랜 주방과 거실을 효과적으로 구분하는 방법 중 하나는 가구 배치, 색상 팔레트, 그리고 에리어 러그를 활용하는 것입니다. 이에 추가로 가벽에 서랍과 선반을 설치하여 구분을 강조하거나, 각 공간 별로 다른 조명을 활용하여 분위기를 변화시킬 수도 있습니다. 또한 특별한 디자인의 천장, 벽을 활용하는 것도 효과적인 방법 중 하나입니다.오픈 플랜 주방과 거실을 효과적으로 구분하는 방법은 다양합니다. 가구 배치, 색상 팔레트, 그리고 에리어 러그를 활용하여 공간을 구분할 수 있습니다. 또한, 다채로운 커튼, 디바이더, 높은 식물 등을 활용하여 시선을 분리시키고 공간을 시각적으로 분할하는 것도 좋은 방법입니다.함께 사용하실 가구 및 소품들의 테마와 스타일을 조율하여 분리된 느낌을 주도록 구성하세요.', 'row': 796, 'question': '오픈 플랜으로 구성된 주방과 거실을 효과적으로 구분하는 방법에는 어떤 것들이 있을까요?'}), Document(page_content=': 972\\ncontents: 조적식 구조에 대해 좀 더 자세히 설명해 주실 수 있을까요? : 조적식 구조는 벽돌 또는 콘크리트 블록을 모르타르로 점착하여 쌓는 구조로서 주택과 같은 소규모 건물에 쓰이며 내습, 내구성이 좋고 내화구조이며 경제적이어서 가장 보편적인 방식으로 평가됩니다. 단, 수평방향의 외력에 대하여 약점으로 보이며 단일 벽체면으로 쌓을 수 있는 수평, 수직적인 한계가 있습니다.조적식 구조는 벽돌 또는 콘크리트 블록을 모르타르로 서로 접착하여 쌓아 만드는 구조 방식을 말합니다. 이 방식은 보편적으로 주택과 같은 소규모 건물에 사용되며 내습, 내구성, 내화성이 좋고 경제적이라는 장점이 있습니다. 그러나 수평방향의 외력에 대해 상대적으로 취약하며, 단일 벽체로 쌓을 수 있는 수평 및 수직 방향에 제한이 있을 수 있습니다.조적식 구조는 벽돌이나 콘크리트 블록을 모르타르로 쌓아 만드는 건축 구조를 말합니다. 주택과 같은 소규모 건물에 주로 사용되며 내습, 내구성이 우수하고 내화구조로서 안전성이 뛰어나며 경제적입니다. 그러나 수평한 외력에 상대적으로 취약하며 단일 벽체로는 수평 및 수직적 제한이 있을 수 있습니다.조적식 구조란 벽돌이나 콘크리트 블록을 모르타르로 붙여서 쌓는 구조를 말합니다. 주로 소규모 건물에서 사용되며 내습성, 내구성, 내화성이 좋고 경제적이라는 장점이 있습니다. 이 방식은 가장 보편적으로 사용되지만, 수평방향의 외력에 상대적으로 취약하며 단일 벽체면으로 쌓을 때 수평이나 수직적인 한계가 있을 수 있습니다.조적식 구조는 벽돌 또는 콘크리트 블록을 모르타르로 점착하여 쌓는 구조입니다. 이 구조는 주택과 같은 소규모 건물에 주로 사용되며 내습, 내구성이 좋고 내화구조이며 경제적이어서 가장 보편적으로 사용됩니다. 하지만 수평방향의 외력에 상대적으로 약한 특성을 가지고 있으며, 단일 벽체면으로 쌓을 수 있는 수평 및 수직적인 한계가 있습니다.', metadata={'source': '조적식 구조에 대해 좀 더 자세히 설명해 주실 수 있을까요? : 조적식 구조는 벽돌 또는 콘크리트 블록을 모르타르로 점착하여 쌓는 구조로서 주택과 같은 소규모 건물에 쓰이며 내습, 내구성이 좋고 내화구조이며 경제적이어서 가장 보편적인 방식으로 평가됩니다. 단, 수평방향의 외력에 대하여 약점으로 보이며 단일 벽체면으로 쌓을 수 있는 수평, 수직적인 한계가 있습니다.조적식 구조는 벽돌 또는 콘크리트 블록을 모르타르로 서로 접착하여 쌓아 만드는 구조 방식을 말합니다. 이 방식은 보편적으로 주택과 같은 소규모 건물에 사용되며 내습, 내구성, 내화성이 좋고 경제적이라는 장점이 있습니다. 그러나 수평방향의 외력에 대해 상대적으로 취약하며, 단일 벽체로 쌓을 수 있는 수평 및 수직 방향에 제한이 있을 수 있습니다.조적식 구조는 벽돌이나 콘크리트 블록을 모르타르로 쌓아 만드는 건축 구조를 말합니다. 주택과 같은 소규모 건물에 주로 사용되며 내습, 내구성이 우수하고 내화구조로서 안전성이 뛰어나며 경제적입니다. 그러나 수평한 외력에 상대적으로 취약하며 단일 벽체로는 수평 및 수직적 제한이 있을 수 있습니다.조적식 구조란 벽돌이나 콘크리트 블록을 모르타르로 붙여서 쌓는 구조를 말합니다. 주로 소규모 건물에서 사용되며 내습성, 내구성, 내화성이 좋고 경제적이라는 장점이 있습니다. 이 방식은 가장 보편적으로 사용되지만, 수평방향의 외력에 상대적으로 취약하며 단일 벽체면으로 쌓을 때 수평이나 수직적인 한계가 있을 수 있습니다.조적식 구조는 벽돌 또는 콘크리트 블록을 모르타르로 점착하여 쌓는 구조입니다. 이 구조는 주택과 같은 소규모 건물에 주로 사용되며 내습, 내구성이 좋고 내화구조이며 경제적이어서 가장 보편적으로 사용됩니다. 하지만 수평방향의 외력에 상대적으로 약한 특성을 가지고 있으며, 단일 벽체면으로 쌓을 수 있는 수평 및 수직적인 한계가 있습니다.', 'row': 972, 'question': '조적식 구조에 대해 좀 더 자세히 설명해 주실 수 있을까요?'}), Document(page_content=': 928\\ncontents: 작은 공간을 활용하여 효과적인 홈오피스를 만들기 위해 필요한 가구나 수납 공간에 대한 조언이 있을까요? : 벽면을 이용한 수납, 접이식 가구, 그리고 밝은 컬러 스키마를 활용하여 작은 공간에 효과적인 홈오피스를 구성하세요.작은 공간을 활용하여 효과적인 홈오피스를 만드는 방법은 다양합니다. 먼저 벽면을 이용하여 수납공간을 최대한 확보하고, 접이식 가구를 활용하여 필요에 따라 변형이 가능한 책상과 의자를 활용하시는 것이 좋습니다. 밝은 컬러 스키마를 활용하여 공간을 밝고 넓어 보이게 하고, 좋은 조명을 활용하여 작은 공간에서도 효과적으로 일을 할 수 있도록 하는 것이 중요합니다. 또한 수납함과 선반, 벽걸이 책상 등을 활용하여 공간을 깔끔하고 기능적으로 활용하는 것이 좋습니다.작은 공간을 활용하여 효과적인 홈오피스를 만드는 데에 있어 가장 중요한 것은 공간을 최대로 활용하는 것입니다. 벽면을 이용하여 수납공간을 만들고, 접이식 가구를 활용하여 필요에 따라 변형할 수 있는 가구를 선택하는 것이 좋습니다. 또한, 밝은 컬러 스키마를 활용하여 공간을 밝고 쾌적하게 만들어 작은 공간이라도 좀 더 넓은 느낌을 주는 것이 도움이 됩니다. 빛을 잘 활용하기 위해 자연광을 최대한 활용할 수 있는 창가에 위치하거나, 충분한 조명을 활용하는 것도 중요합니다. 함께 공간을 활용하는 다른 가구와의 조화도 중요합니다. 이러한 점을 고려하여 효율적이고 편안한 홈오피스를 조성할 수 있습니다.작은 공간을 활용하여 효과적인 홈오피스를 만드는 방법은 몇 가지가 있습니다.  첫 번째로, 벽면을 이용하여 수납 공간을 확보하는 것이 중요합니다. 수납장, 서랍, 선반 등을 벽에 부착하거나 벽면을 활용하여 수납 공간을 최대한 확보하여 불필요한 물건이나 문서 등을 정리해야 합니다. 두 번째로, 접이식 가구를 활용하여 공간을 효율적으로 활용할 수 있습니다. 접는 책상, 접이식 의자 등을 활용하여 필요할 때만 사용하고 필요 없을 때는 접어서 수납할 수 있도록 하면 공간 활용이 용이해집니다. 마지막으로, 밝은 컬러 스키마를 활용하여 작은 공간을 밝고 쾌적하게 만들어야 합니다. 밝은 컬러의 벽지, 가구, 커튼, 조명 등을 활용하여 작은 공간을 확장된 느낌으로 만들 수 있습니다. 밝은 컬러는 작은 공간에서 활기찬 느낌을 줄 뿐만 아니라, 작은 공간을 더 넓어 보이게 만들어줍니다.작은 공간을 효과적으로 활용하여 홈오피스를 만드는 방법에는 몇 가지 팁이 있습니다. 먼저, 벽면을 이용한 수납을 활용하여 수납 공간을 최대한 확보하고, 접이식 가구를 활용하여 필요할 때만 사용할 수 있는 공간을 확보할 수 있습니다. 또한, 밝은 컬러의 스키마를 활용하여 공간을 밝고 활기차게 만들어 작은 공간도 더 넓어 보이도록 하는 것이 좋습니다. 또한, 효과적인 조명과 적절한 수납 시스템을 설치하여 작은 공간을 최대한 활용할 수 있습니다.', metadata={'source': '작은 공간을 활용하여 효과적인 홈오피스를 만들기 위해 필요한 가구나 수납 공간에 대한 조언이 있을까요? : 벽면을 이용한 수납, 접이식 가구, 그리고 밝은 컬러 스키마를 활용하여 작은 공간에 효과적인 홈오피스를 구성하세요.작은 공간을 활용하여 효과적인 홈오피스를 만드는 방법은 다양합니다. 먼저 벽면을 이용하여 수납공간을 최대한 확보하고, 접이식 가구를 활용하여 필요에 따라 변형이 가능한 책상과 의자를 활용하시는 것이 좋습니다. 밝은 컬러 스키마를 활용하여 공간을 밝고 넓어 보이게 하고, 좋은 조명을 활용하여 작은 공간에서도 효과적으로 일을 할 수 있도록 하는 것이 중요합니다. 또한 수납함과 선반, 벽걸이 책상 등을 활용하여 공간을 깔끔하고 기능적으로 활용하는 것이 좋습니다.작은 공간을 활용하여 효과적인 홈오피스를 만드는 데에 있어 가장 중요한 것은 공간을 최대로 활용하는 것입니다. 벽면을 이용하여 수납공간을 만들고, 접이식 가구를 활용하여 필요에 따라 변형할 수 있는 가구를 선택하는 것이 좋습니다. 또한, 밝은 컬러 스키마를 활용하여 공간을 밝고 쾌적하게 만들어 작은 공간이라도 좀 더 넓은 느낌을 주는 것이 도움이 됩니다. 빛을 잘 활용하기 위해 자연광을 최대한 활용할 수 있는 창가에 위치하거나, 충분한 조명을 활용하는 것도 중요합니다. 함께 공간을 활용하는 다른 가구와의 조화도 중요합니다. 이러한 점을 고려하여 효율적이고 편안한 홈오피스를 조성할 수 있습니다.작은 공간을 활용하여 효과적인 홈오피스를 만드는 방법은 몇 가지가 있습니다.  첫 번째로, 벽면을 이용하여 수납 공간을 확보하는 것이 중요합니다. 수납장, 서랍, 선반 등을 벽에 부착하거나 벽면을 활용하여 수납 공간을 최대한 확보하여 불필요한 물건이나 문서 등을 정리해야 합니다. 두 번째로, 접이식 가구를 활용하여 공간을 효율적으로 활용할 수 있습니다. 접는 책상, 접이식 의자 등을 활용하여 필요할 때만 사용하고 필요 없을 때는 접어서 수납할 수 있도록 하면 공간 활용이 용이해집니다. 마지막으로, 밝은 컬러 스키마를 활용하여 작은 공간을 밝고 쾌적하게 만들어야 합니다. 밝은 컬러의 벽지, 가구, 커튼, 조명 등을 활용하여 작은 공간을 확장된 느낌으로 만들 수 있습니다. 밝은 컬러는 작은 공간에서 활기찬 느낌을 줄 뿐만 아니라, 작은 공간을 더 넓어 보이게 만들어줍니다.작은 공간을 효과적으로 활용하여 홈오피스를 만드는 방법에는 몇 가지 팁이 있습니다. 먼저, 벽면을 이용한 수납을 활용하여 수납 공간을 최대한 확보하고, 접이식 가구를 활용하여 필요할 때만 사용할 수 있는 공간을 확보할 수 있습니다. 또한, 밝은 컬러의 스키마를 활용하여 공간을 밝고 활기차게 만들어 작은 공간도 더 넓어 보이도록 하는 것이 좋습니다. 또한, 효과적인 조명과 적절한 수납 시스템을 설치하여 작은 공간을 최대한 활용할 수 있습니다.', 'row': 928, 'question': '작은 공간을 활용하여 효과적인 홈오피스를 만들기 위해 필요한 가구나 수납 공간에 대한 조언이 있을까요?'})]}\n",
      "CPU times: user 3.49 s, sys: 1.78 s, total: 5.27 s\n",
      "Wall time: 5.13 s\n"
     ]
    }
   ],
   "source": [
    "%%time\n",
    "# Run retrieva_chain\n",
    "query = query_lst[0]\n",
    "\n",
    "chat_history = []\n",
    "result = chain({\"question\": query, \"chat_history\": chat_history})\n",
    "print(result)"
   ]
  },
  {
   "cell_type": "code",
   "execution_count": 29,
   "id": "5cb3f178-976e-412d-8c54-9a0155b6ee6d",
   "metadata": {},
   "outputs": [
    {
     "name": "stdout",
     "output_type": "stream",
     "text": [
      "어떤 상황에 개별 공간이 더 적합한지, 어떤 상황에 오픈 플랜 공간이 더 적합한지 알려주세요. 그리고 합지벽지의 어떤 단점이 있나요?\n",
      "\n",
      " 밝는 황에 느납\n"
     ]
    }
   ],
   "source": [
    "# gts.append(result['answer'])\n",
    "print(query)\n",
    "print()\n",
    "print(result['answer'])"
   ]
  },
  {
   "cell_type": "code",
   "execution_count": 29,
   "id": "077a6743-5256-464d-8906-e5c0dde06584",
   "metadata": {},
   "outputs": [],
   "source": [
    "gts = []"
   ]
  },
  {
   "cell_type": "code",
   "execution_count": 31,
   "id": "6b555181-2dae-4beb-a66f-f5e691580e47",
   "metadata": {},
   "outputs": [
    {
     "name": "stderr",
     "output_type": "stream",
     "text": [
      "/opt/conda/lib/python3.10/site-packages/langchain_core/_api/deprecation.py:117: LangChainDeprecationWarning: The function `__call__` was deprecated in LangChain 0.1.0 and will be removed in 0.2.0. Use invoke instead.\n",
      "  warn_deprecated(\n",
      "/opt/conda/lib/python3.10/site-packages/transformers/generation/utils.py:1270: UserWarning: You have modified the pretrained model configuration to control generation. This is a deprecated strategy to control generation and will be removed soon, in a future version. Please use a generation configuration file (see https://huggingface.co/docs/transformers/main_classes/text_generation )\n",
      "  warnings.warn(\n",
      "Input length of input_ids is 5983, but `max_length` is set to 4096. This can lead to unexpected behavior. You should consider increasing `max_new_tokens`.\n"
     ]
    },
    {
     "name": "stdout",
     "output_type": "stream",
     "text": [
      "어떤 상황에 개별 공간이 더 적합한지, 어떤 상황에 오픈 플랜 공간이 더 적합한지 알려주세요. 그리고 합지벽지의 어떤 단점이 있나요?\n",
      "\n",
      " \n",
      "CPU times: user 2.92 s, sys: 1.77 s, total: 4.69 s\n",
      "Wall time: 4.58 s\n"
     ]
    }
   ],
   "source": [
    "%%time\n",
    "# Run retrieva_chain\n",
    "query = query_lst[0]\n",
    "\n",
    "chat_history = []\n",
    "result = chain({\"question\": query, \"chat_history\": chat_history})\n",
    "\n",
    "# print(f'관련 학과 : {result['source_documents'][0].metadata['major']})\n",
    "gts.append(result['answer'])\n",
    "print(query)\n",
    "print()\n",
    "print(result['answer'])"
   ]
  },
  {
   "cell_type": "code",
   "execution_count": 32,
   "id": "c5cc789f-4ddb-4a43-8e13-1afbd49ab277",
   "metadata": {},
   "outputs": [
    {
     "data": {
      "text/plain": [
       "[' ']"
      ]
     },
     "execution_count": 32,
     "metadata": {},
     "output_type": "execute_result"
    }
   ],
   "source": [
    "gts"
   ]
  },
  {
   "cell_type": "markdown",
   "id": "3b9bf427-5252-44ba-9652-119e5156670c",
   "metadata": {},
   "source": [
    "## 평가"
   ]
  },
  {
   "cell_type": "code",
   "execution_count": null,
   "id": "a77b730c-3554-4b13-b5df-293e56267923",
   "metadata": {},
   "outputs": [],
   "source": [
    "# 문장 예시\n",
    "preds = [\n",
    "    \"이번 경진대회는 질의 응답 처리를 수행하는 AI 모델을 개발해야합니다.\",\n",
    "    \"데이콘은 플랫폼입니다.\"\n",
    "]\n",
    "\n",
    "gts = [\n",
    "    \"이번 경진대회의 주제는 도배 하자 질의 응답 AI 모델 개발입니다.\",\n",
    "    \"데이콘은 국내 최대의 AI 경진대회 플랫폼입니다.\"\n",
    "]"
   ]
  },
  {
   "cell_type": "code",
   "execution_count": null,
   "id": "b0c234c0-24a0-4a4f-978b-4358a5c4a6bf",
   "metadata": {},
   "outputs": [],
   "source": [
    "# 샘플에 대한 Cosine Similarity 산식\n",
    "def cosine_similarity(a, b):\n",
    "    dot_product = np.dot(a, b)\n",
    "    norm_a = np.linalg.norm(a)\n",
    "    norm_b = np.linalg.norm(b)\n",
    "    return dot_product / (norm_a * norm_b) if norm_a != 0 and norm_b != 0 else 0"
   ]
  },
  {
   "cell_type": "code",
   "execution_count": null,
   "id": "06ef2ec9-ac1f-457c-9189-eda69a2a4882",
   "metadata": {},
   "outputs": [],
   "source": [
    "sample_scores = []\n",
    "for pred, gt in zip(preds, gts):\n",
    "    # 생성된 답변 내용을 512 Embedding Vector로 변환\n",
    "    pred_embed = model.encode(pred)\n",
    "    gt_embed = model.encode(gt)\n",
    "    \n",
    "    sample_score = cosine_similarity(gt_embed, pred_embed)\n",
    "    # Cosine Similarity Score가 0보다 작으면 0으로 간주\n",
    "    sample_score = max(sample_score, 0)\n",
    "    print('예측 : ', pred)\n",
    "    print('정답 : ', gt)\n",
    "    print('Cosine Similarity Score : ', sample_score)\n",
    "    print('-'*20)\n",
    "    sample_scores.append(sample_score)\n",
    "print('전체 샘플의 Cosine Similarity Score 평균 : ', np.mean(sample_scores))"
   ]
  }
 ],
 "metadata": {
  "kernelspec": {
   "display_name": "Python 3 (ipykernel)",
   "language": "python",
   "name": "python3"
  },
  "language_info": {
   "codemirror_mode": {
    "name": "ipython",
    "version": 3
   },
   "file_extension": ".py",
   "mimetype": "text/x-python",
   "name": "python",
   "nbconvert_exporter": "python",
   "pygments_lexer": "ipython3",
   "version": "3.10.13"
  }
 },
 "nbformat": 4,
 "nbformat_minor": 5
}
